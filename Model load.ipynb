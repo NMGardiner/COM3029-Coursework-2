{
 "cells": [
  {
   "cell_type": "code",
   "execution_count": 1,
   "id": "02a0ca22-fa9d-4913-8a3c-e75dd8f2db09",
   "metadata": {},
   "outputs": [
    {
     "name": "stderr",
     "output_type": "stream",
     "text": [
      "c:\\users\\opind\\appdata\\local\\python38\\lib\\site-packages\\tqdm\\auto.py:21: TqdmWarning: IProgress not found. Please update jupyter and ipywidgets. See https://ipywidgets.readthedocs.io/en/stable/user_install.html\n",
      "  from .autonotebook import tqdm as notebook_tqdm\n"
     ]
    }
   ],
   "source": [
    "from transformers import AutoConfig, AutoTokenizer, BertForSequenceClassification\n",
    "from onnxruntime import InferenceSession\n",
    "from transformers.models.bert import BertOnnxConfig\n",
    "import numpy\n",
    "import torch"
   ]
  },
  {
   "cell_type": "code",
   "execution_count": 2,
   "id": "c1afd224-9fec-4883-87c4-e0787c6c82cd",
   "metadata": {},
   "outputs": [],
   "source": [
    "def onnx():\n",
    "    config = AutoConfig.from_pretrained(\"model\")\n",
    "    onnx_config = BertOnnxConfig(config)\n",
    "\n",
    "    tokenizer = AutoTokenizer.from_pretrained(\"model\")\n",
    "    session = InferenceSession(\"onnx/model.onnx\")"
   ]
  },
  {
   "cell_type": "code",
   "execution_count": 3,
   "id": "3afe8e4d-5b89-4915-a669-8c1ac39582f8",
   "metadata": {},
   "outputs": [],
   "source": [
    "def onnx_prompt(prompt):\n",
    "    inputs = tokenizer(prompt, return_tensors=\"np\")\n",
    "\n",
    "    config = AutoConfig.from_pretrained(\"model\")\n",
    "    onnx_config = BertOnnxConfig(config)\n",
    "\n",
    "    for k, v in inputs.items():\n",
    "        inputs[k] = v.astype(numpy.int64)\n",
    "\n",
    "    print(session.get_outputs()[0])\n",
    "\n",
    "    outputs = session.run(output_names=[\"last_hidden_state\"], input_feed=dict(inputs))\n",
    "    print(outputs[0][0].shape)\n",
    "    predicted = torch.argmax(torch.Tensor(outputs[0][0]), dim=1)\n",
    "    print(predicted)\n",
    "    print(predicted.shape)"
   ]
  },
  {
   "cell_type": "code",
   "execution_count": 4,
   "id": "ab792378-c099-498b-a9a3-5d8dfc7b6559",
   "metadata": {
    "tags": []
   },
   "outputs": [],
   "source": [
    "def torch():\n",
    "    tokenizer = AutoTokenizer.from_pretrained(\"model\")\n",
    "    model = BertForSequenceClassification.from_pretrained(\"model\")"
   ]
  },
  {
   "cell_type": "code",
   "execution_count": 5,
   "id": "783cceb3-4604-4f03-a2ec-5c5fd75f3679",
   "metadata": {},
   "outputs": [],
   "source": [
    "def torch_prompt(prompt):\n",
    "    inputs = tokenizer(prompt, return_tensors=\"pt\")\n",
    "\n",
    "    print(inputs)\n",
    "\n",
    "    outputs = model(**inputs)\n",
    "\n",
    "    print(outputs)\n",
    "    print(outputs.logits)\n",
    "    predicted = torch.argmax(outputs.logits, dim=1)\n",
    "    print(predicted)"
   ]
  },
  {
   "cell_type": "code",
   "execution_count": 6,
   "id": "786929aa-6796-46cf-abad-122d7debe23b",
   "metadata": {
    "tags": []
   },
   "outputs": [
    {
     "ename": "NameError",
     "evalue": "name 'tokenizer' is not defined",
     "output_type": "error",
     "traceback": [
      "\u001b[1;31m---------------------------------------------------------------------------\u001b[0m",
      "\u001b[1;31mNameError\u001b[0m                                 Traceback (most recent call last)",
      "Cell \u001b[1;32mIn[6], line 2\u001b[0m\n\u001b[0;32m      1\u001b[0m prompt \u001b[38;5;241m=\u001b[39m \u001b[38;5;124m\"\u001b[39m\u001b[38;5;124mUsing DistilBERT with ONNX Runtime!\u001b[39m\u001b[38;5;124m\"\u001b[39m\n\u001b[1;32m----> 2\u001b[0m \u001b[43mtorch_prompt\u001b[49m\u001b[43m(\u001b[49m\u001b[43mprompt\u001b[49m\u001b[43m)\u001b[49m\n",
      "Cell \u001b[1;32mIn[5], line 2\u001b[0m, in \u001b[0;36mtorch_prompt\u001b[1;34m(prompt)\u001b[0m\n\u001b[0;32m      1\u001b[0m \u001b[38;5;28;01mdef\u001b[39;00m \u001b[38;5;21mtorch_prompt\u001b[39m(prompt):\n\u001b[1;32m----> 2\u001b[0m     inputs \u001b[38;5;241m=\u001b[39m \u001b[43mtokenizer\u001b[49m(prompt, return_tensors\u001b[38;5;241m=\u001b[39m\u001b[38;5;124m\"\u001b[39m\u001b[38;5;124mpt\u001b[39m\u001b[38;5;124m\"\u001b[39m)\n\u001b[0;32m      4\u001b[0m     \u001b[38;5;28mprint\u001b[39m(inputs)\n\u001b[0;32m      6\u001b[0m     outputs \u001b[38;5;241m=\u001b[39m model(\u001b[38;5;241m*\u001b[39m\u001b[38;5;241m*\u001b[39minputs)\n",
      "\u001b[1;31mNameError\u001b[0m: name 'tokenizer' is not defined"
     ]
    }
   ],
   "source": [
    "prompt = \"Using DistilBERT with ONNX Runtime!\"\n",
    "torch_prompt(prompt)"
   ]
  }
 ],
 "metadata": {
  "kernelspec": {
   "display_name": "Python 3 (ipykernel)",
   "language": "python",
   "name": "python3"
  },
  "language_info": {
   "codemirror_mode": {
    "name": "ipython",
    "version": 3
   },
   "file_extension": ".py",
   "mimetype": "text/x-python",
   "name": "python",
   "nbconvert_exporter": "python",
   "pygments_lexer": "ipython3",
   "version": "3.8.6"
  }
 },
 "nbformat": 4,
 "nbformat_minor": 5
}
