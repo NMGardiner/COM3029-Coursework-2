{
 "cells": [
  {
   "cell_type": "code",
   "execution_count": 1,
   "id": "02a0ca22-fa9d-4913-8a3c-e75dd8f2db09",
   "metadata": {},
   "outputs": [
    {
     "name": "stderr",
     "output_type": "stream",
     "text": [
      "c:\\users\\opind\\appdata\\local\\python38\\lib\\site-packages\\tqdm\\auto.py:21: TqdmWarning: IProgress not found. Please update jupyter and ipywidgets. See https://ipywidgets.readthedocs.io/en/stable/user_install.html\n",
      "  from .autonotebook import tqdm as notebook_tqdm\n"
     ]
    }
   ],
   "source": [
    "from transformers import AutoTokenizer, BertForSequenceClassification\n",
    "import torch\n",
    "\n",
    "tokenizer = AutoTokenizer.from_pretrained(\"model\")\n",
    "model = BertForSequenceClassification.from_pretrained(\"model\")\n",
    "\n",
    "labels = [\"admiration\", \"gratitude\", \"amusement\", \"love\", \"optimism\", \"joy\", \"annoyance\", \"disapproval\", \"anger\", \"sadness\", \"remorse\", \"curiosity\", \"surprise\", \"neutral\"]\n",
    "\n",
    "def predict_label(prompt):\n",
    "    inputs = tokenizer(prompt, return_tensors=\"pt\")\n",
    "\n",
    "    outputs = model(**inputs)\n",
    "    \n",
    "    label_index = torch.argmax(outputs.logits, dim=1).item()\n",
    "\n",
    "    return labels[label_index]"
   ]
  },
  {
   "cell_type": "code",
   "execution_count": 2,
   "id": "c1afd224-9fec-4883-87c4-e0787c6c82cd",
   "metadata": {},
   "outputs": [],
   "source": [
    "import json\n",
    "import logging\n",
    "from logging.config import dictConfig\n",
    "from datetime import datetime\n",
    "\n",
    "dictConfig({\n",
    "    \"version\": 1,\n",
    "    \"formatters\": {\n",
    "        \"default\": {\n",
    "            \"format\": \"%(message)s\",\n",
    "        }\n",
    "    },\n",
    "    \"handlers\": {\n",
    "        \"file\": {\n",
    "            \"class\": \"logging.FileHandler\",\n",
    "            \"filename\": \"predictions.txt\",\n",
    "            \"formatter\": \"default\",\n",
    "        },\n",
    "    },\n",
    "    \"root\": {\"level\": \"INFO\", \"handlers\": [\"file\"]},\n",
    "})\n",
    "\n",
    "# Prevent regular app messages getting logged.\n",
    "logging.getLogger(\"werkzeug\").disabled = True\n",
    "\n",
    "# Use Python's structured logging to make it machine-parseable.\n",
    "class LogMsg(object):\n",
    "    def __init__(self, text, prediction):\n",
    "        self.text = text\n",
    "        self.prediction = prediction\n",
    "        self.time = datetime.now().strftime('%Y-%m-%d %H:%M:%S:%f')\n",
    "\n",
    "    def __str__(self):\n",
    "        return json.dumps({'time': self.time, 'text': self.text, 'prediction': self.prediction})"
   ]
  },
  {
   "cell_type": "code",
   "execution_count": 3,
   "id": "3afe8e4d-5b89-4915-a669-8c1ac39582f8",
   "metadata": {},
   "outputs": [],
   "source": [
    "from flask import Flask, request\n",
    "\n",
    "app = Flask(__name__)\n",
    "\n",
    "@app.route(\"/\", methods=['POST'])\n",
    "def get_prediction():\n",
    "    comment_text = request.json['comment']\n",
    "    prediction = predict_label(comment_text)\n",
    "    app.logger.info(LogMsg(comment_text, prediction))\n",
    "    return \"\\\"\" + comment_text + \"\\\"\" + \" = \" + prediction"
   ]
  },
  {
   "cell_type": "code",
   "execution_count": 4,
   "id": "ab792378-c099-498b-a9a3-5d8dfc7b6559",
   "metadata": {
    "tags": []
   },
   "outputs": [],
   "source": [
    "from waitress import serve\n",
    "import webserver\n",
    "serve(webserver.app, host='127.0.0.1', port=5000)"
   ]
  }
 ],
 "metadata": {
  "kernelspec": {
   "display_name": "Python 3 (ipykernel)",
   "language": "python",
   "name": "python3"
  },
  "language_info": {
   "codemirror_mode": {
    "name": "ipython",
    "version": 3
   },
   "file_extension": ".py",
   "mimetype": "text/x-python",
   "name": "python",
   "nbconvert_exporter": "python",
   "pygments_lexer": "ipython3",
   "version": "3.8.6"
  }
 },
 "nbformat": 4,
 "nbformat_minor": 5
}
