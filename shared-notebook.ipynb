{
 "cells": [
  {
   "cell_type": "markdown",
   "id": "aa2b406d",
   "metadata": {},
   "source": [
    "TODO: Fix this to run the flask app from here."
   ]
  },
  {
   "cell_type": "code",
   "execution_count": null,
   "id": "6ae957f0",
   "metadata": {},
   "outputs": [],
   "source": [
    "#!pip install flask pyopenssl\n",
    "\n",
    "#import subprocess\n",
    "\n",
    "#process = subprocess.Popen('flask --app webserver run', stdout=subprocess.PIPE, stderr=subprocess.STDOUT)\n",
    "\n",
    "#!flask --app webserver run"
   ]
  },
  {
   "cell_type": "code",
   "execution_count": null,
   "id": "75d03564",
   "metadata": {},
   "outputs": [],
   "source": [
    "import requests\n",
    "\n",
    "def send_prediction_request(string_to_predict):\n",
    "    return requests.post('http://127.0.0.1:5000/', json={'comment': string_to_predict}).text\n",
    "\n",
    "\n",
    "print(send_prediction_request('test comment 1'))\n",
    "print(send_prediction_request('test comment 2'))"
   ]
  }
 ],
 "metadata": {
  "kernelspec": {
   "display_name": "Python 3 (ipykernel)",
   "language": "python",
   "name": "python3"
  },
  "language_info": {
   "codemirror_mode": {
    "name": "ipython",
    "version": 3
   },
   "file_extension": ".py",
   "mimetype": "text/x-python",
   "name": "python",
   "nbconvert_exporter": "python",
   "pygments_lexer": "ipython3",
   "version": "3.8.10"
  }
 },
 "nbformat": 4,
 "nbformat_minor": 5
}
