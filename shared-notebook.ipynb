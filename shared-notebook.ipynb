{
 "cells": [
  {
   "attachments": {},
   "cell_type": "markdown",
   "id": "aa2b406d",
   "metadata": {},
   "source": [
    "TODO: Fix this to run the flask app from here."
   ]
  },
  {
   "cell_type": "code",
   "execution_count": 2,
   "id": "6ae957f0",
   "metadata": {},
   "outputs": [
    {
     "name": "stdout",
     "output_type": "stream",
     "text": [
      "Requirement already satisfied: waitress in c:\\users\\ryans\\anaconda3\\envs\\nlp\\lib\\site-packages (2.1.2)\n"
     ]
    }
   ],
   "source": [
    "#!pip install flask pyopenssl\n",
    "\n",
    "#import subprocess\n",
    "\n",
    "#process = subprocess.Popen('flask --app webserver run', stdout=subprocess.PIPE, stderr=subprocess.STDOUT)\n",
    "\n",
    "#!flask --app webserver run\n",
    "\n",
    "!pip install waitress\n",
    "\n",
    "import multiprocessing\n",
    "\n",
    "def start_server():\n",
    "    !waitress-serve --listen=127.0.0.1:5000 webserver:app\n",
    "\n",
    "server_process = multiprocessing.Process(target=start_server)\n",
    "server_process.start()"
   ]
  },
  {
   "cell_type": "code",
   "execution_count": 5,
   "id": "75d03564",
   "metadata": {},
   "outputs": [
    {
     "name": "stdout",
     "output_type": "stream",
     "text": [
      "{\"success\": true, \"prediction\": \"neutral\"}\n",
      "{\"success\": true, \"prediction\": \"neutral\"}\n",
      "{\"success\": true, \"prediction\": \"anger\"}\n"
     ]
    }
   ],
   "source": [
    "import requests\n",
    "\n",
    "def send_prediction_request(string_to_predict):\n",
    "    return requests.post('http://127.0.0.1:5000/', json={'comment': string_to_predict}).text\n",
    "\n",
    "\n",
    "print(send_prediction_request('test comment 1'))\n",
    "print(send_prediction_request('test comment 2'))\n",
    "print(send_prediction_request('I am so angry right now grrrrr'))"
   ]
  },
  {
   "cell_type": "code",
   "execution_count": 6,
   "id": "f18145b8",
   "metadata": {},
   "outputs": [],
   "source": [
    "server_process.kill()"
   ]
  }
 ],
 "metadata": {
  "kernelspec": {
   "display_name": "Python 3 (ipykernel)",
   "language": "python",
   "name": "python3"
  },
  "language_info": {
   "codemirror_mode": {
    "name": "ipython",
    "version": 3
   },
   "file_extension": ".py",
   "mimetype": "text/x-python",
   "name": "python",
   "nbconvert_exporter": "python",
   "pygments_lexer": "ipython3",
   "version": "3.8.16"
  }
 },
 "nbformat": 4,
 "nbformat_minor": 5
}
